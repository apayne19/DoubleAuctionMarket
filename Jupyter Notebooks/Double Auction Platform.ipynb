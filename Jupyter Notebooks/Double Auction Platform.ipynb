{
 "cells": [
  {
   "cell_type": "markdown",
   "metadata": {},
   "source": [
    "# Period Trading in a Double Auction Simulation\n",
    "## Created by Alex Payne\n",
    "\n",
    "### These files and code below will help to explain how one can use our simulation to test automated trading strategies in a continuous double auction market"
   ]
  },
  {
   "cell_type": "code",
   "execution_count": 1,
   "metadata": {
    "collapsed": true
   },
   "outputs": [],
   "source": [
    "# Hello\n",
    "import spot_system as sys\n",
    "import AI_Testing as prd\n",
    "import random\n",
    "import csv\n",
    "import matplotlib.pyplot as plt\n",
    "import numpy as np\n",
    "import plotly.offline as py\n",
    "import plotly.graph_objs as go\n",
    "import plotly.figure_factory as ff\n",
    "import os\n",
    "import time\n",
    "import trader as tdr\n",
    "import math\n",
    "from timeit import default_timer as timer\n",
    "import scipy.stats as stats\n",
    "import spot_market_period as cda"
   ]
  },
  {
   "cell_type": "markdown",
   "metadata": {},
   "source": [
    "## Below you will set where the market information and graphs will be stored on your computer\n",
    "\n",
    "### after building a supply/demand schedule using spot_environment_gui, you will set the input_path to where your csv files are stored, and input_file to the particular csv file you wish to use\n",
    "\n",
    "### output_path will be set to the folder you wish to dump all market information and graphs into\n",
    "\n",
    "### session_name will be the unique identifying name you give to your market runs"
   ]
  },
  {
   "cell_type": "code",
   "execution_count": 2,
   "metadata": {
    "collapsed": true
   },
   "outputs": [],
   "source": [
    "input_path = \"C:\\\\Users\\\\Summer17\\\\Desktop\\\\Repos\\\\DoubleAuctionMisc\\\\projects\\\\\"\n",
    "input_file = \"TestVS\"\n",
    "output_path = \"C:\\\\Users\\\\Summer17\\\\Desktop\\\\Repos\\\\DoubleAuctionMisc\\\\period data\\\\\"\n",
    "session_name = \"Jupyter Testing\"\n",
    "'''Below are global dictionaries that will contain information needed to execute several functions'''\n",
    "all_prices = []\n",
    "theoretical_transactions = []\n",
    "all_ends = []\n",
    "avg_prices = []\n",
    "endpoints = []\n",
    "eff = []\n",
    "periods_list = []\n",
    "act_surplus = []\n",
    "maxi_surplus = []\n"
   ]
  },
  {
   "cell_type": "markdown",
   "metadata": {},
   "source": [
    "## Below you will set the number of periods you wish to run, the price limits, number of rounds, and the traders you wish to use \n",
    "\n",
    "### you can create new trading strategies by using the formatting in trader.py"
   ]
  },
  {
   "cell_type": "code",
   "execution_count": 3,
   "metadata": {},
   "outputs": [
    {
     "name": "stdout",
     "output_type": "stream",
     "text": [
      "ERROR: File Exists... must rename or delete previous session data\n"
     ]
    },
    {
     "ename": "FileExistsError",
     "evalue": "[WinError 183] Cannot create a file when that file already exists: 'C:\\\\Users\\\\Summer17\\\\Desktop\\\\Repos\\\\DoubleAuctionMisc\\\\period data\\\\Jupyter Testing'",
     "output_type": "error",
     "traceback": [
      "\u001b[1;31m---------------------------------------------------------------------------\u001b[0m",
      "\u001b[1;31mFileExistsError\u001b[0m                           Traceback (most recent call last)",
      "\u001b[1;32m<ipython-input-3-d4bee3246567>\u001b[0m in \u001b[0;36m<module>\u001b[1;34m()\u001b[0m\n\u001b[0;32m      5\u001b[0m \u001b[0mperiod\u001b[0m \u001b[1;33m=\u001b[0m \u001b[1;36m0\u001b[0m  \u001b[1;31m# ...??\u001b[0m\u001b[1;33m\u001b[0m\u001b[0m\n\u001b[0;32m      6\u001b[0m \u001b[1;32mtry\u001b[0m\u001b[1;33m:\u001b[0m\u001b[1;33m\u001b[0m\u001b[0m\n\u001b[1;32m----> 7\u001b[1;33m     \u001b[0mos\u001b[0m\u001b[1;33m.\u001b[0m\u001b[0mmakedirs\u001b[0m\u001b[1;33m(\u001b[0m\u001b[0moutput_path\u001b[0m \u001b[1;33m+\u001b[0m \u001b[0msession_name\u001b[0m\u001b[1;33m)\u001b[0m  \u001b[1;31m# creates folder for session data\u001b[0m\u001b[1;33m\u001b[0m\u001b[0m\n\u001b[0m\u001b[0;32m      8\u001b[0m \u001b[1;32mexcept\u001b[0m \u001b[0mFileExistsError\u001b[0m\u001b[1;33m:\u001b[0m\u001b[1;33m\u001b[0m\u001b[0m\n\u001b[0;32m      9\u001b[0m     \u001b[0mprint\u001b[0m\u001b[1;33m(\u001b[0m\u001b[1;34m\"ERROR: File Exists... must rename or delete previous session data\"\u001b[0m\u001b[1;33m)\u001b[0m\u001b[1;33m\u001b[0m\u001b[0m\n",
      "\u001b[1;32mC:\\ProgramData\\Anaconda3\\lib\\os.py\u001b[0m in \u001b[0;36mmakedirs\u001b[1;34m(name, mode, exist_ok)\u001b[0m\n\u001b[0;32m    218\u001b[0m             \u001b[1;32mreturn\u001b[0m\u001b[1;33m\u001b[0m\u001b[0m\n\u001b[0;32m    219\u001b[0m     \u001b[1;32mtry\u001b[0m\u001b[1;33m:\u001b[0m\u001b[1;33m\u001b[0m\u001b[0m\n\u001b[1;32m--> 220\u001b[1;33m         \u001b[0mmkdir\u001b[0m\u001b[1;33m(\u001b[0m\u001b[0mname\u001b[0m\u001b[1;33m,\u001b[0m \u001b[0mmode\u001b[0m\u001b[1;33m)\u001b[0m\u001b[1;33m\u001b[0m\u001b[0m\n\u001b[0m\u001b[0;32m    221\u001b[0m     \u001b[1;32mexcept\u001b[0m \u001b[0mOSError\u001b[0m\u001b[1;33m:\u001b[0m\u001b[1;33m\u001b[0m\u001b[0m\n\u001b[0;32m    222\u001b[0m         \u001b[1;31m# Cannot rely on checking for EEXIST, since the operating system\u001b[0m\u001b[1;33m\u001b[0m\u001b[1;33m\u001b[0m\u001b[0m\n",
      "\u001b[1;31mFileExistsError\u001b[0m: [WinError 183] Cannot create a file when that file already exists: 'C:\\\\Users\\\\Summer17\\\\Desktop\\\\Repos\\\\DoubleAuctionMisc\\\\period data\\\\Jupyter Testing'"
     ]
    }
   ],
   "source": [
    "num_periods = 10  # periods or trading days\n",
    "limits = (400, 0)  # price ceiling, price floor\n",
    "rounds = 25  # rounds in each period (can substitute time clock)\n",
    "name = \"trial\"\n",
    "period = 0  # ...??\n",
    "try:\n",
    "    os.makedirs(output_path + session_name)  # creates folder for session data\n",
    "except FileExistsError:\n",
    "    print(\"ERROR: File Exists... must rename or delete previous session data\")\n",
    "    raise  # raises error if folder already exists\n",
    "header = session_name\n",
    "smp = cda.SpotMarketPeriod(session_name, num_periods)\n",
    "'''Below trader classes are abbreviated'''\n",
    "zic = \"Trader_ZIC\"  # zero intelligence constrained\n",
    "ziu = \"Trader_ZIU\"  # zero intelligence unconstrained trader.. not used\n",
    "kp = \"Trader_Kaplan\"  # sniping trader based on Santa Fe paper\n",
    "si = \"Trader_Shaver\"  # simple trader.. not used\n",
    "ps = \"Trader_PS\"  # PS trader based on Priest and Tol paper\n",
    "aa = \"Trader_AA\"  # aggressiveness trader based on Cliff and Vytelingum paper\n",
    "gd = \"Trader_GD\"  # GD trader based on Gjerstadt and Dickhaut paper\n",
    "#zip = \"Trader_ZIP\"  # zero intelligence plus trader\n",
    "ai = \"Trader_AI\""
   ]
  },
  {
   "cell_type": "markdown",
   "metadata": {},
   "source": [
    "## You can set the trading strategies used by changing the trader abbreviations in trader_names\n",
    "\n",
    "### after executing the cell you will be able to observe each buyer's and seller's individual values, equilibrium calculation, and available surplus in the market"
   ]
  },
  {
   "cell_type": "code",
   "execution_count": null,
   "metadata": {
    "collapsed": true
   },
   "outputs": [],
   "source": [
    "trader_names = [aa, aa, aa, aa, aa, aa, aa, aa, aa, aa, aa, aa, aa, aa, aa, aa, aa, aa, aa, aa, aa, aa]\n",
    "header = session_name\n",
    "smp.init_spot_system(name, limits, rounds, input_path, input_file, output_path, session_name)\n",
    "rnd_traders = trader_names    # because shuffle shuffles the list in place, returns none\n",
    "print(rnd_traders)"
   ]
  },
  {
   "cell_type": "markdown",
   "metadata": {},
   "source": [
    "## Executing the cell below will start the market and initiate bids/asks and contracts until all periods have been completed\n",
    "\n",
    "### all the information from the market will be appended to the dictionaries and also be stored, along with all the graphs, in your output path destination "
   ]
  },
  {
   "cell_type": "code",
   "execution_count": null,
   "metadata": {
    "collapsed": true
   },
   "outputs": [],
   "source": [
    "for k in range(num_periods):  # iterates through number of periods or \"trading days\"\n",
    "    periods_list.append(k)\n",
    "    random.shuffle(rnd_traders)  # shuffles trader order per period\n",
    "    smp.init_traders(rnd_traders, k)\n",
    "    print(\"**** Running Period {}\".format(k))  # provides visual effect in editor\n",
    "    smp.run_period(period, header)\n",
    "    results = smp.eval()\n",
    "    '''the below data is appended into global dictionaries'''\n",
    "    eff.append(results[8])  # appends the efficiencies per period\n",
    "    act_surplus.append(results[7])  # appends actual surplus per period\n",
    "    maxi_surplus.append(results[6])  # appends maximum surplus per period\n",
    "    smp.get_contracts()  # gets transaction prices and period endpoints\n",
    "    session_folder = output_path + session_name + \"\\\\\"  # establishes file path for session data folder\n",
    "    smp.record_session_data(session_folder)  # records session data in excel csv"
   ]
  },
  {
   "cell_type": "markdown",
   "metadata": {},
   "source": [
    "## Executing the cells below will provide the user with the market information generated by the simulation"
   ]
  },
  {
   "cell_type": "code",
   "execution_count": null,
   "metadata": {
    "collapsed": true
   },
   "outputs": [],
   "source": [
    "print(\"Market Efficiencies:\" + str(eff))  # print market efficiencies\n",
    "print(\"Avg. Efficiency:\" + str(sum(eff)/num_periods))  # print avg efficiency\n",
    "print(\"Total Avg. Transaction Price:\" + str(sum(avg_prices[1:])/(num_periods - 1)))\n",
    "print(\"Actual Surpluses:\" + str(act_surplus))  # print actual surpluses\n",
    "print(\"Maximum Surpluses:\" + str(maxi_surplus))  # print max surpluses"
   ]
  },
  {
   "cell_type": "code",
   "execution_count": null,
   "metadata": {
    "collapsed": true
   },
   "outputs": [],
   "source": [
    "print(\"Strategy Total Earnings\")\n",
    "print(\"Trader_AA: \" + str(smp.total_earns('AA')))\n",
    "#print(\"Trader_AI: \" + str(smp.total_earns('AI')))\n",
    "print(\"Trader_GD: \" + str(smp.total_earns('GD')))  #\n",
    "print(\"Trader_PS: \" + str(smp.total_earns('PS')))  # ADDED: section to list total avg earns\n",
    "# print(\"Trader_AI: \" + str(smp.total_avg_earns('AI')))   #\n",
    "print(\"Trader_ZIP: \" + str(smp.total_earns('ZIP')))  #\n",
    "print(\"Trader_ZIC: \" + str(smp.total_earns('ZIC')))  #\n",
    "print(\"Trader_Kaplan: \" + str(smp.total_earns('KP')))\n",
    "print(\"Trader_Shaver: \" + str(smp.total_earns('SI')))"
   ]
  },
  {
   "cell_type": "code",
   "execution_count": null,
   "metadata": {
    "collapsed": true
   },
   "outputs": [],
   "source": [
    "print(\"Strategy Total Avg. Earnings (per trader)\")\n",
    "print(\"Trader_AA: \" + str(smp.total_avg_earns('AA', trader_names.count(aa)*num_periods)))   #\n",
    "print(\"Trader_GD: \" + str(smp.total_avg_earns('GD', trader_names.count(gd)*num_periods)))   #\n",
    "print(\"Trader_PS: \" + str(smp.total_avg_earns('PS', trader_names.count(ps)*num_periods)))   # ADDED: section to list total avg earns\n",
    "#print(\"Trader_AI: \" + str(smp.total_avg_earns('AI')))   #\n",
    "print(\"Trader_ZIP: \" + str(smp.total_avg_earns('ZIP', trader_names.count(zip)*num_periods))) #\n",
    "print(\"Trader_ZIC: \" + str(smp.total_avg_earns('ZIC', trader_names.count(zic)*num_periods))) #\n",
    "print(\"Trader_Kaplan: \" + str(smp.total_avg_earns('KP', trader_names.count(kp)*num_periods)))\n",
    "print(\"Trader_Shaver: \" + str(smp.total_avg_earns('SI', trader_names.count(si)*num_periods)))"
   ]
  },
  {
   "cell_type": "markdown",
   "metadata": {},
   "source": [
    "## Executing the cells below will generate all the market graphs produced by the simulation "
   ]
  },
  {
   "cell_type": "code",
   "execution_count": null,
   "metadata": {
    "collapsed": true
   },
   "outputs": [],
   "source": [
    "smp.get_avg_trade_ratio()  # prints avg trade ratio for all periods"
   ]
  },
  {
   "cell_type": "code",
   "execution_count": null,
   "metadata": {
    "collapsed": true
   },
   "outputs": [],
   "source": [
    "smp.graph_trader_eff()  # plots individual efficiency"
   ]
  },
  {
   "cell_type": "code",
   "execution_count": null,
   "metadata": {
    "collapsed": true
   },
   "outputs": [],
   "source": [
    "smp.graph_efficiency()  # plots period efficiency"
   ]
  },
  {
   "cell_type": "code",
   "execution_count": null,
   "metadata": {
    "collapsed": true
   },
   "outputs": [],
   "source": [
    "smp.get_endpoints()  # obtains endpoints of periods for graph\n",
    "smp.graph_contracts()  # graphs contract transactions and avg transaction per period"
   ]
  },
  {
   "cell_type": "code",
   "execution_count": null,
   "metadata": {
    "collapsed": true
   },
   "outputs": [],
   "source": [
    "smp.graph_alphas()  # graphs Smith's Alpha of convergence"
   ]
  },
  {
   "cell_type": "code",
   "execution_count": null,
   "metadata": {
    "collapsed": true
   },
   "outputs": [],
   "source": [
    "smp.graph_distribution()  # graphs normal distribution of trader efficiencies"
   ]
  },
  {
   "cell_type": "markdown",
   "metadata": {},
   "source": [
    "## Now I will demonstrate how to initiate market shocks to test trader responses to altered market information"
   ]
  },
  {
   "cell_type": "code",
   "execution_count": null,
   "metadata": {
    "collapsed": true
   },
   "outputs": [],
   "source": [
    "'''Reset all dictionaries'''\n",
    "all_prices = []\n",
    "theoretical_transactions = []\n",
    "all_ends = []\n",
    "avg_prices = []\n",
    "endpoints = []\n",
    "eff = []\n",
    "periods_list = []\n",
    "act_surplus = []\n",
    "maxi_surplus = []\n",
    "\n",
    "input_file_market_shock = \"MarketShockTest\"\n",
    "new_session_name = \"Jupyter Test 2\"\n",
    "num_periods = 10  # periods or trading days\n",
    "limits = (400, 0)  # price ceiling, price floor\n",
    "rounds = 25  # rounds in each period (can substitute time clock)\n",
    "name = \"trial\"\n",
    "period = 0  # ...??\n",
    "try:\n",
    "    os.makedirs(output_path + new_session_name)  # creates folder for session data\n",
    "except FileExistsError:\n",
    "    print(\"ERROR: File Exists... must rename or delete previous session data\")\n",
    "    raise  # raises error if folder already exists\n",
    "smp = cda.SpotMarketPeriod(new_session_name, num_periods)\n",
    "'''Below trader classes are abbreviated'''\n",
    "zic = \"Trader_ZIC\"  # zero intelligence constrained\n",
    "ziu = \"Trader_ZIU\"  # zero intelligence unconstrained trader.. not used\n",
    "kp = \"Trader_Kaplan\"  # sniping trader based on Santa Fe paper\n",
    "si = \"Trader_Shaver\"  # simple trader.. not used\n",
    "ps = \"Trader_PS\"  # PS trader based on Priest and Tol paper\n",
    "aa = \"Trader_AA\"  # aggressiveness trader based on Cliff and Vytelingum paper\n",
    "gd = \"Trader_GD\"  # GD trader based on Gjerstadt and Dickhaut paper\n",
    "#zip = \"Trader_ZIP\"  # zero intelligence plus trader\n",
    "ai = \"Trader_AI\"\n",
    "trader_names = [aa, aa, aa, aa, aa, aa, aa, aa, aa, aa, aa, aa, aa, aa, aa, aa, aa, aa, aa, aa, aa, aa]\n",
    "header = session_name\n",
    "smp.init_spot_system(name, limits, rounds, input_path, input_file_market_shock, output_path, new_session_name)\n",
    "rnd_traders = trader_names    # because shuffle shuffles the list in place, returns none\n",
    "print(rnd_traders)"
   ]
  },
  {
   "cell_type": "code",
   "execution_count": null,
   "metadata": {
    "collapsed": true
   },
   "outputs": [],
   "source": [
    "for k in range(num_periods):  # iterates through number of periods or \"trading days\"\n",
    "    if k == 3:\n",
    "        smp.init_spot_system_crash(name, limits, rounds, input_path, input_file_market_shock, output_path, new_session_name)\n",
    "    else:\n",
    "        pass\n",
    "    periods_list.append(k)\n",
    "    random.shuffle(rnd_traders)  # shuffles trader order per period\n",
    "    smp.init_traders(rnd_traders, k)\n",
    "    print(\"**** Running Period {}\".format(k))  # provides visual effect in editor\n",
    "    smp.run_period(period, header)\n",
    "    results = smp.eval()\n",
    "    '''the below data is appended into global dictionaries'''\n",
    "    eff.append(results[8])  # appends the efficiencies per period\n",
    "    act_surplus.append(results[7])  # appends actual surplus per period\n",
    "    maxi_surplus.append(results[6])  # appends maximum surplus per period\n",
    "    smp.get_contracts()  # gets transaction prices and period endpoints\n",
    "    session_folder = output_path + new_session_name + \"\\\\\"  # establishes file path for session data folder\n",
    "    smp.record_session_data(session_folder)  # records session data in excel csv"
   ]
  },
  {
   "cell_type": "code",
   "execution_count": null,
   "metadata": {
    "collapsed": true
   },
   "outputs": [],
   "source": [
    "print(\"Market Efficiencies:\" + str(eff))  # print market efficiencies\n",
    "print(\"Avg. Efficiency:\" + str(sum(eff)/num_periods))  # print avg efficiency\n",
    "print(\"Total Avg. Transaction Price:\" + str(sum(avg_prices[1:])/(num_periods - 1)))\n",
    "print(\"Actual Surpluses:\" + str(act_surplus))  # print actual surpluses\n",
    "print(\"Maximum Surpluses:\" + str(maxi_surplus))  # print max surpluses"
   ]
  },
  {
   "cell_type": "code",
   "execution_count": null,
   "metadata": {
    "collapsed": true
   },
   "outputs": [],
   "source": [
    "print(\"Strategy Total Earnings\")\n",
    "print(\"Trader_AA: \" + str(smp.total_earns('AA')))\n",
    "#print(\"Trader_AI: \" + str(smp.total_earns('AI')))\n",
    "print(\"Trader_GD: \" + str(smp.total_earns('GD')))  #\n",
    "print(\"Trader_PS: \" + str(smp.total_earns('PS')))  # ADDED: section to list total avg earns\n",
    "# print(\"Trader_AI: \" + str(smp.total_avg_earns('AI')))   #\n",
    "print(\"Trader_ZIP: \" + str(smp.total_earns('ZIP')))  #\n",
    "print(\"Trader_ZIC: \" + str(smp.total_earns('ZIC')))  #\n",
    "print(\"Trader_Kaplan: \" + str(smp.total_earns('KP')))\n",
    "print(\"Trader_Shaver: \" + str(smp.total_earns('SI')))"
   ]
  },
  {
   "cell_type": "code",
   "execution_count": null,
   "metadata": {
    "collapsed": true
   },
   "outputs": [],
   "source": [
    "print(\"Strategy Total Avg. Earnings (per trader)\")\n",
    "print(\"Trader_AA: \" + str(smp.total_avg_earns('AA', trader_names.count(aa)*num_periods)))   #\n",
    "print(\"Trader_GD: \" + str(smp.total_avg_earns('GD', trader_names.count(gd)*num_periods)))   #\n",
    "print(\"Trader_PS: \" + str(smp.total_avg_earns('PS', trader_names.count(ps)*num_periods)))   # ADDED: section to list total avg earns\n",
    "#print(\"Trader_AI: \" + str(smp.total_avg_earns('AI')))   #\n",
    "print(\"Trader_ZIP: \" + str(smp.total_avg_earns('ZIP', trader_names.count(zip)*num_periods))) #\n",
    "print(\"Trader_ZIC: \" + str(smp.total_avg_earns('ZIC', trader_names.count(zic)*num_periods))) #\n",
    "print(\"Trader_Kaplan: \" + str(smp.total_avg_earns('KP', trader_names.count(kp)*num_periods)))\n",
    "print(\"Trader_Shaver: \" + str(smp.total_avg_earns('SI', trader_names.count(si)*num_periods)))"
   ]
  },
  {
   "cell_type": "code",
   "execution_count": null,
   "metadata": {
    "collapsed": true
   },
   "outputs": [],
   "source": [
    "smp.get_avg_trade_ratio()  # prints avg trade ratio for all periods"
   ]
  },
  {
   "cell_type": "code",
   "execution_count": null,
   "metadata": {
    "collapsed": true
   },
   "outputs": [],
   "source": [
    "smp.graph_trader_eff()  # plots individual efficiency"
   ]
  },
  {
   "cell_type": "code",
   "execution_count": null,
   "metadata": {
    "collapsed": true
   },
   "outputs": [],
   "source": [
    "smp.graph_efficiency()  # plots period efficiency"
   ]
  },
  {
   "cell_type": "code",
   "execution_count": null,
   "metadata": {
    "collapsed": true
   },
   "outputs": [],
   "source": [
    "smp.get_endpoints()  # obtains endpoints of periods for graph\n",
    "smp.graph_contracts()  # graphs contract transactions and avg transaction per period"
   ]
  },
  {
   "cell_type": "code",
   "execution_count": null,
   "metadata": {
    "collapsed": true
   },
   "outputs": [],
   "source": [
    "smp.graph_alphas()  # graphs Smith's Alpha of convergence"
   ]
  },
  {
   "cell_type": "code",
   "execution_count": null,
   "metadata": {
    "collapsed": true
   },
   "outputs": [],
   "source": [
    "smp.graph_distribution()  # graphs normal distribution of trader efficiencies"
   ]
  },
  {
   "cell_type": "code",
   "execution_count": null,
   "metadata": {
    "collapsed": true
   },
   "outputs": [],
   "source": []
  }
 ],
 "metadata": {
  "kernelspec": {
   "display_name": "Python 3",
   "language": "python",
   "name": "python3"
  },
  "language_info": {
   "codemirror_mode": {
    "name": "ipython",
    "version": 3
   },
   "file_extension": ".py",
   "mimetype": "text/x-python",
   "name": "python",
   "nbconvert_exporter": "python",
   "pygments_lexer": "ipython3",
   "version": "3.6.1"
  }
 },
 "nbformat": 4,
 "nbformat_minor": 2
}
