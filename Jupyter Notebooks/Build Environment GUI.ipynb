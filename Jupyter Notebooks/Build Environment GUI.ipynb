{
 "cells": [
  {
   "cell_type": "code",
   "execution_count": 32,
   "metadata": {
    "collapsed": true
   },
   "outputs": [],
   "source": [
    "import tkinter as tk  # gui interface creator\n",
    "import tkinter.filedialog\n",
    "from tkinter import messagebox\n",
    "import matplotlib  # graphing functions\n",
    "matplotlib.use(\"TkAgg\")\n",
    "import time \n",
    "from matplotlib.backends.backend_tkagg import FigureCanvasTkAgg, NavigationToolbar2TkAgg\n",
    "from matplotlib.figure import Figure\n",
    "import random\n",
    "import os  \n",
    "import spot_environment_controller  # condensed modules/commands from spot_env_model\n",
    "import spot_environment_gui"
   ]
  },
  {
   "cell_type": "code",
   "execution_count": 37,
   "metadata": {},
   "outputs": [
    {
     "name": "stdout",
     "output_type": "stream",
     "text": [
      "In Gui -> START\n",
      "... In Controller -> __init__\n",
      "...... In Model -> __init__\n"
     ]
    }
   ],
   "source": [
    "\n",
    "debug_test = True\n",
    "if debug_test:\n",
    "    print(\"In Gui -> START\")\n",
    "root = tk.Tk()\n",
    "sec = spot_environment_controller.SpotEnvironmentController(debug_test)\n",
    "\n",
    "\n",
    "name = 'Environment Builder'  # name of gui\n",
    "debug = False  # used as error checker...when false will return errors or warnings\n",
    "root.title(name)  # giving root a name\n",
    "\n",
    "def on_quit_chosen():\n",
    "    \"\"\"This gives a messagebox when either quit or escape is chosen\"\"\"\n",
    "    if tkinter.messagebox.askokcancel(\"Exit?\", \"Have you saved your work?\"):\n",
    "        self.root.destroy()  # closes window and destroys tkinter object\n",
    "    else:\n",
    "        pass\n",
    "#root.protocol(\"WM_DELETE_WINDOW\", on_quit_chosen())\n",
    "num_buyers = 0  # setting number of buyers to 0\n",
    "num_sellers = 0  # setting number of sellers to 0\n",
    "num_units = 0  # setting number of units to 0\n",
    "\n",
    "string_num_buyers = tk.StringVar()    # creates a tkinter variable\n",
    "string_num_sellers = tk.StringVar()   # StringVar() returns either an ASCII string or Unicode string\n",
    "string_num_units = tk.StringVar()     # can also be used to trace when changes made to variables\n",
    "\n",
    "string_project_name = tk.StringVar()  # BooleanVar() will return 0 for false and 1 for true...\n",
    "string_eq = tk.StringVar()\n",
    "string_pl = tk.StringVar()\n",
    "string_ph = tk.StringVar()\n",
    "string_ms = tk.StringVar()\n",
    "current_row = 0  # setting current read row to 0... self.current_row+1 would read next row\n",
    "current_row_contents = []\n",
    "ids = [1, 2, 3, 4, 5, 6, 7, 8, 9, 10]  # is this limiting the amount to 10 buyers and 10 sellers?\n",
    "file_name = None  # none is a placeholder to be filled"
   ]
  },
  {
   "cell_type": "code",
   "execution_count": 38,
   "metadata": {},
   "outputs": [
    {
     "name": "stdout",
     "output_type": "stream",
     "text": [
      "[]\n",
      "[]\n"
     ]
    }
   ],
   "source": [
    "def build_array(num_1, num_2):  # builds an array for buyers:values and sellers:costs\n",
    "    x = []\n",
    "    for j in range(num_1):\n",
    "        a_row = []\n",
    "        for k in range(num_2):\n",
    "            a_row.append(k)\n",
    "        x.append(a_row)\n",
    "    return x\n",
    "# have to build matrices for future tkinter display\n",
    "buyer_values = build_array(num_buyers, num_units)  # matrix of buyers and number of units\n",
    "seller_costs = build_array(num_sellers, num_units)  # matrix of sellers and number of units\n",
    "print(buyer_values)\n",
    "print(seller_costs)"
   ]
  },
  {
   "cell_type": "code",
   "execution_count": 39,
   "metadata": {},
   "outputs": [],
   "source": [
    "# have to set local file path for icon images and project data\n",
    "file_path = \"C:\\\\Users\\\\Summer17\\\\Desktop\\\\Repos\\\\DoubleAuctionMisc\\\\icons\\\\\"\n",
    "project_path = \"C:\\\\Users\\\\Summer17\\\\Desktop\\\\Repos\\\\DoubleAuctionMisc\\\\projects\\\\\"\n",
    "\n",
    "# have to create small images for tkinter display... open file, save, etc.\n",
    "new_file_icon = tk.PhotoImage(file=file_path + 'new.png')\n",
    "open_file_icon = tk.PhotoImage(file=file_path + 'open.png')\n",
    "save_file_icon = tk.PhotoImage(file=file_path + 'save.png')  # calling images from icons folder\n",
    "cut_icon = tk.PhotoImage(file=file_path + 'cut.png')         # --> pulled from internet images\n",
    "copy_icon = tk.PhotoImage(file=file_path + 'copy.png')       # --> images edited/shrunk to meet scale\n",
    "paste_icon = tk.PhotoImage(file=file_path + 'paste.png')\n",
    "undo_icon = tk.PhotoImage(file=file_path + 'undo.png')\n",
    "redo_icon = tk.PhotoImage(file=file_path + 'redo.png')"
   ]
  },
  {
   "cell_type": "code",
   "execution_count": 36,
   "metadata": {},
   "outputs": [
    {
     "ename": "TclError",
     "evalue": "image \"pyimage41\" doesn't exist",
     "output_type": "error",
     "traceback": [
      "\u001b[1;31m---------------------------------------------------------------------------\u001b[0m",
      "\u001b[1;31mTclError\u001b[0m                                  Traceback (most recent call last)",
      "\u001b[1;32m<ipython-input-36-93e93f4d9e8e>\u001b[0m in \u001b[0;36m<module>\u001b[1;34m()\u001b[0m\n\u001b[0;32m      5\u001b[0m \u001b[0mfile_menu\u001b[0m \u001b[1;33m=\u001b[0m \u001b[0mtk\u001b[0m\u001b[1;33m.\u001b[0m\u001b[0mMenu\u001b[0m\u001b[1;33m(\u001b[0m\u001b[0mmenu_bar\u001b[0m\u001b[1;33m,\u001b[0m \u001b[0mtearoff\u001b[0m\u001b[1;33m=\u001b[0m\u001b[1;36m0\u001b[0m\u001b[1;33m)\u001b[0m\u001b[1;33m\u001b[0m\u001b[0m\n\u001b[0;32m      6\u001b[0m file_menu.add_command(label='New', accelerator='Ctrl+N',\n\u001b[1;32m----> 7\u001b[1;33m                     compound='left', image=new_file_icon, underline=0, command=None)\n\u001b[0m\u001b[0;32m      8\u001b[0m file_menu.add_command(label='Open', accelerator='Ctrl+O',\n\u001b[0;32m      9\u001b[0m                     compound='left', image=open_file_icon, underline=0, command=None)\n",
      "\u001b[1;32mC:\\ProgramData\\Anaconda3\\lib\\tkinter\\__init__.py\u001b[0m in \u001b[0;36madd_command\u001b[1;34m(self, cnf, **kw)\u001b[0m\n\u001b[0;32m   2879\u001b[0m     \u001b[1;32mdef\u001b[0m \u001b[0madd_command\u001b[0m\u001b[1;33m(\u001b[0m\u001b[0mself\u001b[0m\u001b[1;33m,\u001b[0m \u001b[0mcnf\u001b[0m\u001b[1;33m=\u001b[0m\u001b[1;33m{\u001b[0m\u001b[1;33m}\u001b[0m\u001b[1;33m,\u001b[0m \u001b[1;33m**\u001b[0m\u001b[0mkw\u001b[0m\u001b[1;33m)\u001b[0m\u001b[1;33m:\u001b[0m\u001b[1;33m\u001b[0m\u001b[0m\n\u001b[0;32m   2880\u001b[0m         \u001b[1;34m\"\"\"Add command menu item.\"\"\"\u001b[0m\u001b[1;33m\u001b[0m\u001b[0m\n\u001b[1;32m-> 2881\u001b[1;33m         \u001b[0mself\u001b[0m\u001b[1;33m.\u001b[0m\u001b[0madd\u001b[0m\u001b[1;33m(\u001b[0m\u001b[1;34m'command'\u001b[0m\u001b[1;33m,\u001b[0m \u001b[0mcnf\u001b[0m \u001b[1;32mor\u001b[0m \u001b[0mkw\u001b[0m\u001b[1;33m)\u001b[0m\u001b[1;33m\u001b[0m\u001b[0m\n\u001b[0m\u001b[0;32m   2882\u001b[0m     \u001b[1;32mdef\u001b[0m \u001b[0madd_radiobutton\u001b[0m\u001b[1;33m(\u001b[0m\u001b[0mself\u001b[0m\u001b[1;33m,\u001b[0m \u001b[0mcnf\u001b[0m\u001b[1;33m=\u001b[0m\u001b[1;33m{\u001b[0m\u001b[1;33m}\u001b[0m\u001b[1;33m,\u001b[0m \u001b[1;33m**\u001b[0m\u001b[0mkw\u001b[0m\u001b[1;33m)\u001b[0m\u001b[1;33m:\u001b[0m\u001b[1;33m\u001b[0m\u001b[0m\n\u001b[0;32m   2883\u001b[0m         \u001b[1;34m\"\"\"Addd radio menu item.\"\"\"\u001b[0m\u001b[1;33m\u001b[0m\u001b[0m\n",
      "\u001b[1;32mC:\\ProgramData\\Anaconda3\\lib\\tkinter\\__init__.py\u001b[0m in \u001b[0;36madd\u001b[1;34m(self, itemType, cnf, **kw)\u001b[0m\n\u001b[0;32m   2870\u001b[0m         \u001b[1;34m\"\"\"Internal function.\"\"\"\u001b[0m\u001b[1;33m\u001b[0m\u001b[0m\n\u001b[0;32m   2871\u001b[0m         self.tk.call((self._w, 'add', itemType) +\n\u001b[1;32m-> 2872\u001b[1;33m                  self._options(cnf, kw))\n\u001b[0m\u001b[0;32m   2873\u001b[0m     \u001b[1;32mdef\u001b[0m \u001b[0madd_cascade\u001b[0m\u001b[1;33m(\u001b[0m\u001b[0mself\u001b[0m\u001b[1;33m,\u001b[0m \u001b[0mcnf\u001b[0m\u001b[1;33m=\u001b[0m\u001b[1;33m{\u001b[0m\u001b[1;33m}\u001b[0m\u001b[1;33m,\u001b[0m \u001b[1;33m**\u001b[0m\u001b[0mkw\u001b[0m\u001b[1;33m)\u001b[0m\u001b[1;33m:\u001b[0m\u001b[1;33m\u001b[0m\u001b[0m\n\u001b[0;32m   2874\u001b[0m         \u001b[1;34m\"\"\"Add hierarchical menu item.\"\"\"\u001b[0m\u001b[1;33m\u001b[0m\u001b[0m\n",
      "\u001b[1;31mTclError\u001b[0m: image \"pyimage41\" doesn't exist"
     ]
    }
   ],
   "source": [
    "# getting icons ready for compound menu\n",
    "menu_bar = tk.Menu(root)  # menu begins\n",
    "\n",
    "# create file menu item\n",
    "file_menu = tk.Menu(menu_bar, tearoff=0)\n",
    "file_menu.add_command(label='New', accelerator='Ctrl+N',\n",
    "                    compound='left', image=new_file_icon, underline=0, command=None)\n",
    "file_menu.add_command(label='Open', accelerator='Ctrl+O',\n",
    "                    compound='left', image=open_file_icon, underline=0, command=None)\n",
    "file_menu.add_command(label='Save', accelerator='Ctrl+S',\n",
    "                    compound='left', image=save_file_icon, underline=0, command=None)\n",
    "file_menu.add_command(label='Save as', accelerator='Shift+Ctrl+S', command=None)\n",
    "file_menu.add_separator()\n",
    "file_menu.add_command(label='Quit', accelerator='Alt+F4', command=None)\n",
    "menu_bar.add_cascade(label='File', menu=file_menu)  # allows toolbar tab to drop down with multiple choices\n",
    "\n",
    "# create show action menu item\n",
    "show_menu = tk.Menu(menu_bar, tearoff=0)\n",
    "show_menu.add_command(label='Show Supply & Demand', command=None)  # click = show action\n",
    "show_menu.add_command(label='Calculate Equilibrium', command=None)  # click = calc action\n",
    "menu_bar.add_cascade(label='Actions', menu=show_menu)  # allows menu to drop down\n",
    "\n",
    "# created a plot menu item\n",
    "plot_menu = tk.Menu(menu_bar, tearoff=0)\n",
    "plot_menu.add_command(label='Plot Supply & Demand', command=None)  # click = plot action\n",
    "plot_menu.add_command(label='Plot Contracts', command=None)\n",
    "menu_bar.add_cascade(label='Plot', menu=plot_menu)  # allows menu to drop down\n",
    "\n",
    "# create about/help menu\n",
    "about_menu = tk.Menu(menu_bar, tearoff=0)\n",
    "about_menu.add_command(label='About', command=None)  # click = display about message\n",
    "about_menu.add_command(label='Help', command=None)  # click = display help message\n",
    "menu_bar.add_cascade(label='Misc', menu=about_menu)  # drop down menu\n",
    "root.config(menu=menu_bar)  # makes menu setup final"
   ]
  },
  {
   "cell_type": "code",
   "execution_count": null,
   "metadata": {
    "collapsed": true
   },
   "outputs": [],
   "source": []
  }
 ],
 "metadata": {
  "kernelspec": {
   "display_name": "Python 3",
   "language": "python",
   "name": "python3"
  },
  "language_info": {
   "codemirror_mode": {
    "name": "ipython",
    "version": 3
   },
   "file_extension": ".py",
   "mimetype": "text/x-python",
   "name": "python",
   "nbconvert_exporter": "python",
   "pygments_lexer": "ipython3",
   "version": "3.6.1"
  }
 },
 "nbformat": 4,
 "nbformat_minor": 2
}
